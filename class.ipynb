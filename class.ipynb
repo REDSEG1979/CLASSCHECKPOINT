{
 "cells": [
  {
   "cell_type": "code",
   "execution_count": 3,
   "id": "3c48a51d",
   "metadata": {},
   "outputs": [
    {
     "name": "stdout",
     "output_type": "stream",
     "text": [
      "(1, 2, 3)\n"
     ]
    }
   ],
   "source": [
    "class Point3D:\n",
    "    def __init__(self,x,y,z):\n",
    "        self.x = x\n",
    "        self.y = y\n",
    "        self.z = z\n",
    "    def coord(self):\n",
    "        return (self.x,self.y,self.z)\n",
    "my_point = Point3D(1,2,3)\n",
    "print(my_point.coord())\n",
    "        "
   ]
  },
  {
   "cell_type": "code",
   "execution_count": 7,
   "id": "9c3178f5",
   "metadata": {},
   "outputs": [
    {
     "name": "stdout",
     "output_type": "stream",
     "text": [
      "14\n",
      "12\n"
     ]
    }
   ],
   "source": [
    "class Rectangle:\n",
    "    def __init__(self,longeur,largeur):\n",
    "        self.longeur = longeur\n",
    "        self.largeur = largeur\n",
    "    def Perimetre(self):\n",
    "        return ((self.longeur+self.largeur)*2)\n",
    "    def area(self):\n",
    "        return (self.longeur*self.largeur)\n",
    "R1 = Rectangle(3,4)\n",
    "print(R1.Perimetre())\n",
    "print(R1.area())"
   ]
  },
  {
   "cell_type": "code",
   "execution_count": 9,
   "id": "1eb877dc",
   "metadata": {},
   "outputs": [
    {
     "name": "stdout",
     "output_type": "stream",
     "text": [
      "3.141592653589793\n",
      "6.283185307179586\n"
     ]
    }
   ],
   "source": [
    "import math\n",
    "class Circle:\n",
    "    def __init__(self,rayon):\n",
    "        self.rayon = rayon\n",
    "    def Area(self):\n",
    "        return (self.rayon*self.rayon*math.pi)\n",
    "    def Perimetre(self):\n",
    "        return (2*self.rayon*math.pi)\n",
    "    def isinside(self,xa,ya):\n",
    "        distance = (xa-self.x)**2+(ya-self.y)**2\n",
    "        distance = math.sqrt(distance)\n",
    "        return distance < self.rayon\n",
    "C1 = Circle(1)\n",
    "print(C1.Area())\n",
    "print(C1.Perimetre())"
   ]
  },
  {
   "cell_type": "code",
   "execution_count": 12,
   "id": "4a4e56af",
   "metadata": {},
   "outputs": [
    {
     "name": "stdout",
     "output_type": "stream",
     "text": [
      "1200\n"
     ]
    }
   ],
   "source": [
    "class Bank:\n",
    "    def __init__(self,account):\n",
    "        self.account = account\n",
    "    def deposit(self,add):\n",
    "        self.account = self.account+add\n",
    "    def withdraw(self,sub):\n",
    "        self.account = self.account-sub\n",
    "SGMB = Bank(1000)\n",
    "SGMB.withdraw(300)\n",
    "SGMB.deposit(500)\n",
    "print(SGMB.account)"
   ]
  },
  {
   "cell_type": "code",
   "execution_count": null,
   "id": "63c38d66",
   "metadata": {},
   "outputs": [],
   "source": []
  }
 ],
 "metadata": {
  "kernelspec": {
   "display_name": "Python 3 (ipykernel)",
   "language": "python",
   "name": "python3"
  },
  "language_info": {
   "codemirror_mode": {
    "name": "ipython",
    "version": 3
   },
   "file_extension": ".py",
   "mimetype": "text/x-python",
   "name": "python",
   "nbconvert_exporter": "python",
   "pygments_lexer": "ipython3",
   "version": "3.10.9"
  }
 },
 "nbformat": 4,
 "nbformat_minor": 5
}
